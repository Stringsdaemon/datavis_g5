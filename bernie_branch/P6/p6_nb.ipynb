{
 "cells": [
  {
   "metadata": {
    "ExecuteTime": {
     "end_time": "2025-03-13T11:24:54.709652Z",
     "start_time": "2025-03-13T11:24:53.880302Z"
    }
   },
   "cell_type": "code",
   "source": [
    "import pandas as pd\n",
    "import plotly.express as px\n",
    "import ipywidgets as widgets\n",
    "from IPython.display import display\n",
    "\n",
    "# Load dataset\n",
    "p6_data = pd.read_csv(\"google_clean_v2.csv\")\n",
    "p6_data = p6_data.dropna(subset=[\"Last_Updated\", \"Installs\"])  # Drop missing values\n",
    "p6_data[\"Last_Updated\"] = pd.to_datetime(p6_data[\"Last_Updated\"])  # Convert to datetime\n",
    "p6_data[\"Year\"] = p6_data[\"Last_Updated\"].dt.year  # Extract Year\n",
    "p6_data[\"Month\"] = p6_data[\"Last_Updated\"].dt.month  # Extract Month\n",
    "p6_data[\"Installs\"] = p6_data[\"Installs\"].astype(int)  # Clean Installs\n",
    "\n",
    "# Create dropdown widget\n",
    "year_dropdown = widgets.Dropdown(options=sorted(p6_data[\"Year\"].unique()), description=\"Year:\")\n",
    "\n",
    "# Function to update plot\n",
    "def update_plot(selected_year):\n",
    "    filtered_p6 = p6_data[p6_data[\"Year\"] == selected_year]\n",
    "\n",
    "    # Aggregate installs by Month\n",
    "    install_heatmap = filtered_p6.groupby([\"Month\", \"Year\"])[\"Installs\"].sum().reset_index()\n",
    "\n",
    "    # Pivot data for heatmap\n",
    "    install_pivot = install_heatmap.pivot(index=\"Month\", columns=\"Year\", values=\"Installs\")\n",
    "\n",
    "    # Create heatmap\n",
    "    fig = px.imshow(\n",
    "        install_pivot,\n",
    "        labels={\"x\": \"Year\", \"y\": \"Month\", \"color\": \"Installs\"},\n",
    "        title=f\"📊 App Installs by Month for {selected_year}\",\n",
    "        color_continuous_scale=\"Viridis\"\n",
    "    )\n",
    "\n",
    "    return fig\n",
    "\n",
    "# Interactive output\n",
    "display(year_dropdown)\n",
    "widgets.interactive(update_plot, selected_year=year_dropdown)\n"
   ],
   "id": "41b904c8debef2ea",
   "outputs": [
    {
     "data": {
      "text/plain": [
       "Dropdown(description='Year:', options=(np.int32(2010), np.int32(2011), np.int32(2012), np.int32(2013), np.int3…"
      ],
      "application/vnd.jupyter.widget-view+json": {
       "version_major": 2,
       "version_minor": 0,
       "model_id": "a2f78fc069eb430cac9e7cea577ec30e"
      }
     },
     "metadata": {},
     "output_type": "display_data"
    },
    {
     "data": {
      "text/plain": [
       "interactive(children=(Dropdown(description='Year:', options=(np.int32(2010), np.int32(2011), np.int32(2012), n…"
      ],
      "application/vnd.jupyter.widget-view+json": {
       "version_major": 2,
       "version_minor": 0,
       "model_id": "b7bbbfb3e7b44e4091a00051a2b13a5c"
      }
     },
     "execution_count": 1,
     "metadata": {},
     "output_type": "execute_result"
    }
   ],
   "execution_count": 1
  }
 ],
 "metadata": {
  "kernelspec": {
   "display_name": "Python 3",
   "language": "python",
   "name": "python3"
  },
  "language_info": {
   "codemirror_mode": {
    "name": "ipython",
    "version": 2
   },
   "file_extension": ".py",
   "mimetype": "text/x-python",
   "name": "python",
   "nbconvert_exporter": "python",
   "pygments_lexer": "ipython2",
   "version": "2.7.6"
  }
 },
 "nbformat": 4,
 "nbformat_minor": 5
}
