{
 "cells": [
  {
   "cell_type": "code",
   "id": "initial_id",
   "metadata": {
    "collapsed": true,
    "jupyter": {
     "is_executing": true
    },
    "ExecuteTime": {
     "start_time": "2025-03-13T13:04:43.348071Z"
    }
   },
   "source": [
    " import pandas as pd\n",
    "import plotly.express as px\n",
    "import ipywidgets as widgets\n",
    "from IPython.display import display\n",
    "\n",
    "# Load dataset\n",
    "p7_data = pd.read_csv(\"google_clean_v2.csv\")\n",
    "p7_data = p7_data.dropna(subset=[\"Size\", \"Installs\"])\n",
    "p7_data = p7_data[p7_data[\"Size\"] != \"Varies with device\"]\n",
    "#p7_data[\"Size\"] = p7_data[\"Size\"].str.replace(\"M\", \"\").str.replace(\"k\", \"\").astype(float)\n",
    "#p7_data[\"Size\"] = p7_data[\"Size\"].apply(lambda x: x / 1000 if x > 100 else x)  # Convert KB to MB\n",
    "#p7_data[\"Installs\"] = p7_data[\"Installs\"].str.replace(\"[+,]\", \"\", regex=True).astype(int)\n",
    "\n",
    "# Create slider\n",
    "size_slider = widgets.FloatRangeSlider(\n",
    "    value=[0.0, 500.0],\n",
    "    min=0.0,\n",
    "    max=500.0,\n",
    "    step=1.0,\n",
    "    description=\"Size (MB)\"\n",
    ")\n",
    "\n",
    "# Function to update plot\n",
    "def update_plot(size_range):\n",
    "    filtered_p7 = p7_data[(p7_data[\"Size\"] >= size_range[0]) & (p7_data[\"Size\"] <= size_range[1])]\n",
    "\n",
    "    fig = px.strip(\n",
    "        filtered_p7,\n",
    "        x=\"Size\",\n",
    "        y=\"Installs\",\n",
    "        title=\"📊 App Installs vs. Size\",\n",
    "        hover_data=[\"App\"],\n",
    "        color=\"Category\"\n",
    "    )\n",
    "\n",
    "    return fig\n",
    "\n",
    "display(size_slider)\n",
    "widgets.interactive(update_plot, size_range=size_slider)\n"
   ],
   "outputs": [
    {
     "data": {
      "text/plain": [
       "FloatRangeSlider(value=(0.0, 500.0), description='Size (MB)', max=500.0, step=1.0)"
      ],
      "application/vnd.jupyter.widget-view+json": {
       "version_major": 2,
       "version_minor": 0,
       "model_id": "f794747bac2a440e957a9dadb25c457c"
      }
     },
     "metadata": {},
     "output_type": "display_data"
    },
    {
     "data": {
      "text/plain": [
       "interactive(children=(FloatRangeSlider(value=(0.0, 500.0), description='Size (MB)', max=500.0, step=1.0), Outp…"
      ],
      "application/vnd.jupyter.widget-view+json": {
       "version_major": 2,
       "version_minor": 0,
       "model_id": "6d412b8b338445089ffd6757695c0250"
      }
     },
     "execution_count": 3,
     "metadata": {},
     "output_type": "execute_result"
    }
   ],
   "execution_count": null
  }
 ],
 "metadata": {
  "kernelspec": {
   "display_name": "Python 3",
   "language": "python",
   "name": "python3"
  },
  "language_info": {
   "codemirror_mode": {
    "name": "ipython",
    "version": 2
   },
   "file_extension": ".py",
   "mimetype": "text/x-python",
   "name": "python",
   "nbconvert_exporter": "python",
   "pygments_lexer": "ipython2",
   "version": "2.7.6"
  }
 },
 "nbformat": 4,
 "nbformat_minor": 5
}
