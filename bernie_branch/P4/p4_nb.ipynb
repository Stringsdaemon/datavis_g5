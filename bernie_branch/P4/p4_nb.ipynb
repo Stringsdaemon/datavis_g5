{
 "cells": [
  {
   "cell_type": "code",
   "id": "initial_id",
   "metadata": {
    "collapsed": true,
    "ExecuteTime": {
     "end_time": "2025-03-13T10:35:29.492327Z",
     "start_time": "2025-03-13T10:35:27.720578Z"
    }
   },
   "source": [
    "import pandas as pd\n",
    "import plotly.express as px\n",
    "import ipywidgets as widgets\n",
    "from IPython.display import display\n",
    "\n",
    "# Load dataset\n",
    "p4_data = pd.read_csv(\"google_clean_v2.csv\")\n",
    "p4_data = p4_data.dropna(subset=[\"Last_Updated\"])  # Drop missing values\n",
    "p4_data[\"Last_Updated\"] = pd.to_datetime(p4_data[\"Last_Updated\"])  # Convert to datetime\n",
    "\n",
    "# Create date range slider\n",
    "min_date = p4_data[\"Last_Updated\"].min()\n",
    "max_date = p4_data[\"Last_Updated\"].max()\n",
    "date_slider = widgets.SelectionRangeSlider(\n",
    "    options=pd.date_range(start=min_date, end=max_date, freq='D'),\n",
    "    index=(0, len(pd.date_range(start=min_date, end=max_date)) - 1),\n",
    "    description=\"Date Range\"\n",
    ")\n",
    "\n",
    "# Function to update plot\n",
    "def update_plot(date_range):\n",
    "    start_date, end_date = date_range\n",
    "    filtered_p4 = p4_data[(p4_data[\"Last_Updated\"] >= start_date) & (p4_data[\"Last_Updated\"] <= end_date)]\n",
    "\n",
    "    # Count updates per day\n",
    "    date_counts = filtered_p4[\"Last_Updated\"].value_counts().reset_index()\n",
    "    date_counts.columns = [\"Date\", \"Update Count\"]\n",
    "\n",
    "    # Create heatmap\n",
    "    fig = px.density_heatmap(\n",
    "        date_counts,\n",
    "        x=\"Date\",\n",
    "        y=\"Update Count\",\n",
    "        title=\"App Update Frequency Over Time\",\n",
    "        color_continuous_scale=\"Viridis\"\n",
    "    )\n",
    "\n",
    "    fig.show()\n",
    "\n",
    "# Display widgets\n",
    "display(date_slider)\n",
    "widgets.interactive(update_plot, date_range=date_slider)\n"
   ],
   "outputs": [
    {
     "data": {
      "text/plain": [
       "SelectionRangeSlider(description='Date Range', index=(0, 3001), options=(Timestamp('2010-05-21 00:00:00'), Tim…"
      ],
      "application/vnd.jupyter.widget-view+json": {
       "version_major": 2,
       "version_minor": 0,
       "model_id": "f771e9ce481c46a6932be9707b54e423"
      }
     },
     "metadata": {},
     "output_type": "display_data"
    },
    {
     "data": {
      "text/plain": [
       "interactive(children=(SelectionRangeSlider(description='Date Range', index=(0, 3001), options=(Timestamp('2010…"
      ],
      "application/vnd.jupyter.widget-view+json": {
       "version_major": 2,
       "version_minor": 0,
       "model_id": "4dfce23e4c6d407dbd85df8396408a41"
      }
     },
     "execution_count": 1,
     "metadata": {},
     "output_type": "execute_result"
    }
   ],
   "execution_count": 1
  }
 ],
 "metadata": {
  "kernelspec": {
   "display_name": "Python 3",
   "language": "python",
   "name": "python3"
  },
  "language_info": {
   "codemirror_mode": {
    "name": "ipython",
    "version": 2
   },
   "file_extension": ".py",
   "mimetype": "text/x-python",
   "name": "python",
   "nbconvert_exporter": "python",
   "pygments_lexer": "ipython2",
   "version": "2.7.6"
  }
 },
 "nbformat": 4,
 "nbformat_minor": 5
}
