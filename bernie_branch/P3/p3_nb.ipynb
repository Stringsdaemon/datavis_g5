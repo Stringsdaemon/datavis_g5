{
 "cells": [
  {
   "cell_type": "code",
   "id": "initial_id",
   "metadata": {
    "collapsed": true
   },
   "source": [
    "import pandas as pd\n",
    "import plotly.express as px\n",
    "import ipywidgets as widgets\n",
    "from IPython.display import display\n",
    "\n",
    "# Load dataset\n",
    "p3_data = pd.read_csv(\"google_clean_v2.csv\")\n",
    "\n",
    "# Drop missing values\n",
    "p3_data\n",
    "# Convert Installs column to int\n",
    "p3_data[\"Installs\"] = p3_data[\"Installs\"].astype(int)\n",
    "\n",
    "# Create dropdown widget\n",
    "content_rating_options = sorted(p3_data[\"Content Rating\"].unique())\n",
    "selected_ratings = widgets.SelectMultiple(options=content_rating_options, value=content_rating_options, description=\"Content Ratings:\")\n",
    "\n",
    "# Function to update plot\n",
    "def update_plot(selected_ratings):\n",
    "    filtered_p3 = p3_data[p3_data[\"Content Rating\"].isin(selected_ratings)]\n",
    "\n",
    "    fig = px.bar(\n",
    "        filtered_p3,\n",
    "        x=\"Content Rating\",\n",
    "        y=\"Installs\",\n",
    "        color=\"Category\",\n",
    "        title=\"App Installs by Content Rating\",\n",
    "        barmode=\"stack\",\n",
    "        hover_data=[\"App\"]\n",
    "    )\n",
    "\n",
    "    return fig\n",
    "\n",
    "# Display widgets and interactive plot\n",
    "display(selected_ratings)\n",
    "widgets.interactive(update_plot, selected_ratings=selected_ratings)\n"
   ],
   "outputs": [],
   "execution_count": null
  },
  {
   "metadata": {},
   "cell_type": "code",
   "outputs": [],
   "execution_count": null,
   "source": "",
   "id": "d068459b1cabf617"
  }
 ],
 "metadata": {
  "kernelspec": {
   "display_name": "Python 3",
   "language": "python",
   "name": "python3"
  },
  "language_info": {
   "codemirror_mode": {
    "name": "ipython",
    "version": 2
   },
   "file_extension": ".py",
   "mimetype": "text/x-python",
   "name": "python",
   "nbconvert_exporter": "python",
   "pygments_lexer": "ipython2",
   "version": "2.7.6"
  }
 },
 "nbformat": 4,
 "nbformat_minor": 5
}
