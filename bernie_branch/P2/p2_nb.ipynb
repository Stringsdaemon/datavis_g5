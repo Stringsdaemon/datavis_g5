{
 "cells": [
  {
   "cell_type": "code",
   "id": "3a57e923a343245e",
   "metadata": {
    "ExecuteTime": {
     "end_time": "2025-03-13T14:56:39.615413Z",
     "start_time": "2025-03-13T14:56:39.021815Z"
    }
   },
   "source": [
    "import pandas as pd\n",
    "import plotly.express as px\n",
    "import ipywidgets as widgets\n",
    "from IPython.display import display"
   ],
   "outputs": [],
   "execution_count": 1
  },
  {
   "metadata": {
    "collapsed": true,
    "ExecuteTime": {
     "end_time": "2025-03-13T14:56:41.308842Z",
     "start_time": "2025-03-13T14:56:41.109634Z"
    }
   },
   "cell_type": "code",
   "source": [
    "\n",
    "# Load dataset\n",
    "p2_data = pd.read_csv(\"google_clean_v2.csv\")\n",
    "\n",
    "# Drop missing values\n",
    "p2_data = p2_data.dropna(subset=[\"Rating\", \"Type\", \"Reviews\"])\n",
    "\n",
    "\n",
    "\n",
    "# Create dropdown\n",
    "app_type = widgets.RadioButtons(options=[\"Free\", \"Paid\"], description=\"App Type:\")\n",
    "\n",
    "# Function to update plot\n",
    "def update_plot(app_type):\n",
    "    if app_type == \"Free\":\n",
    "        filtered_df = p2_data[p2_data[\"Price\"] == 0]\n",
    "    else:\n",
    "        filtered_df = p2_data[p2_data[\"Price\"] > 0]\n",
    "\n",
    "    fig = px.scatter(\n",
    "        filtered_df,\n",
    "        x=\"Rating\",\n",
    "        y=\"Reviews\",\n",
    "        color=\"Price\",\n",
    "        size=\"Reviews\",\n",
    "        title=f\"Rating vs. Reviews for {app_type} Apps\",\n",
    "        hover_data=[\"App\"]\n",
    "    )\n",
    "\n",
    "    return fig\n",
    "\n",
    "# Interactive widget\n",
    "display(app_type)\n",
    "widgets.interactive(update_plot, app_type=app_type)\n"
   ],
   "id": "initial_id",
   "outputs": [
    {
     "data": {
      "text/plain": [
       "RadioButtons(description='App Type:', options=('Free', 'Paid'), value='Free')"
      ],
      "application/vnd.jupyter.widget-view+json": {
       "version_major": 2,
       "version_minor": 0,
       "model_id": "899e36411fe8420289d0544fa8f453f7"
      }
     },
     "metadata": {},
     "output_type": "display_data"
    },
    {
     "data": {
      "text/plain": [
       "interactive(children=(RadioButtons(description='App Type:', options=('Free', 'Paid'), value='Free'), Output())…"
      ],
      "application/vnd.jupyter.widget-view+json": {
       "version_major": 2,
       "version_minor": 0,
       "model_id": "83a96faa167c4bd4b613dbd716b649b0"
      }
     },
     "execution_count": 2,
     "metadata": {},
     "output_type": "execute_result"
    }
   ],
   "execution_count": 2
  }
 ],
 "metadata": {
  "kernelspec": {
   "display_name": "Python 3",
   "language": "python",
   "name": "python3"
  },
  "language_info": {
   "codemirror_mode": {
    "name": "ipython",
    "version": 2
   },
   "file_extension": ".py",
   "mimetype": "text/x-python",
   "name": "python",
   "nbconvert_exporter": "python",
   "pygments_lexer": "ipython2",
   "version": "2.7.6"
  }
 },
 "nbformat": 4,
 "nbformat_minor": 5
}
