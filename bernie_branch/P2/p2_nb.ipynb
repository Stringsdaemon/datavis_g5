{
 "cells": [
  {
   "cell_type": "code",
   "id": "initial_id",
   "metadata": {
    "collapsed": true,
    "ExecuteTime": {
     "end_time": "2025-03-13T10:09:39.706796Z",
     "start_time": "2025-03-13T10:09:39.012382Z"
    }
   },
   "source": [
    "import pandas as pd\n",
    "import plotly.express as px\n",
    "import ipywidgets as widgets\n",
    "from IPython.display import display\n",
    "\n",
    "# Load dataset\n",
    "p2_data = pd.read_csv(\"google_clean_v2.csv\")\n",
    "\n",
    "# Drop missing values\n",
    "p2_data = p2_data.dropna(subset=[\"Rating\", \"Type\", \"Reviews\"])\n",
    "\n",
    "\n",
    "\n",
    "# Create dropdown\n",
    "app_type = widgets.RadioButtons(options=[\"Free\", \"Paid\"], description=\"App Type:\")\n",
    "\n",
    "# Function to update plot\n",
    "def update_plot(app_type):\n",
    "    if app_type == \"Free\":\n",
    "        filtered_df = p2_data[p2_data[\"Price\"] == 0]\n",
    "    else:\n",
    "        filtered_df = p2_data[p2_data[\"Price\"] > 0]\n",
    "\n",
    "    fig = px.scatter(\n",
    "        filtered_df,\n",
    "        x=\"Rating\",\n",
    "        y=\"Reviews\",\n",
    "        color=\"Price\",\n",
    "        size=\"Reviews\",\n",
    "        title=f\"Rating vs. Reviews for {app_type} Apps\",\n",
    "        hover_data=[\"App\"]\n",
    "    )\n",
    "\n",
    "    fig.show()\n",
    "\n",
    "# Interactive widget\n",
    "display(app_type)\n",
    "widgets.interactive(update_plot, app_type=app_type)\n"
   ],
   "outputs": [
    {
     "data": {
      "text/plain": [
       "RadioButtons(description='App Type:', options=('Free', 'Paid'), value='Free')"
      ],
      "application/vnd.jupyter.widget-view+json": {
       "version_major": 2,
       "version_minor": 0,
       "model_id": "64f4e2258b364564b5b47f663a5ed6b9"
      }
     },
     "metadata": {},
     "output_type": "display_data"
    },
    {
     "data": {
      "text/plain": [
       "interactive(children=(RadioButtons(description='App Type:', options=('Free', 'Paid'), value='Free'), Output())…"
      ],
      "application/vnd.jupyter.widget-view+json": {
       "version_major": 2,
       "version_minor": 0,
       "model_id": "4eb2e89c552646ffbe5891aa00b1730e"
      }
     },
     "execution_count": 2,
     "metadata": {},
     "output_type": "execute_result"
    }
   ],
   "execution_count": 2
  }
 ],
 "metadata": {
  "kernelspec": {
   "display_name": "Python 3",
   "language": "python",
   "name": "python3"
  },
  "language_info": {
   "codemirror_mode": {
    "name": "ipython",
    "version": 2
   },
   "file_extension": ".py",
   "mimetype": "text/x-python",
   "name": "python",
   "nbconvert_exporter": "python",
   "pygments_lexer": "ipython2",
   "version": "2.7.6"
  }
 },
 "nbformat": 4,
 "nbformat_minor": 5
}
