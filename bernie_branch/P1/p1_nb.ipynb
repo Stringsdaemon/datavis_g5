{
 "cells": [
  {
   "cell_type": "code",
   "id": "initial_id",
   "metadata": {
    "collapsed": true,
    "ExecuteTime": {
     "end_time": "2025-03-13T09:33:39.327675Z",
     "start_time": "2025-03-13T09:33:39.197565Z"
    }
   },
   "source": [
    "import pandas as pd\n",
    "import plotly as pl\n",
    "import plotly.express as px\n",
    "import numpy\n",
    "import ipywidgets as widgets\n",
    "from IPython.display import display"
   ],
   "outputs": [],
   "execution_count": 4
  },
  {
   "metadata": {
    "ExecuteTime": {
     "end_time": "2025-03-13T09:22:24.429771Z",
     "start_time": "2025-03-13T09:22:24.396585Z"
    }
   },
   "cell_type": "code",
   "source": [
    "p1_data = pd.read_csv('google_clean_v2.csv')\n",
    "p1_data = p1_data.dropna(subset=[\"Rating\", \"Category\"])\n"
   ],
   "id": "9bc05db96d6414cf",
   "outputs": [],
   "execution_count": 3
  },
  {
   "metadata": {
    "ExecuteTime": {
     "end_time": "2025-03-13T09:44:02.447716Z",
     "start_time": "2025-03-13T09:44:02.343860Z"
    }
   },
   "cell_type": "code",
   "source": [
    "categories = sorted(p1_data[\"Category\"].unique())\n",
    "\n",
    "# Dropdown selectors\n",
    "category1 = widgets.Dropdown(options=categories, value=categories[0], description=\"Category 1\")\n",
    "category2 = widgets.Dropdown(options=categories, value=categories[1], description=\"Category 2\")\n",
    "\n",
    "# Function to update plot based on selection:\n",
    "\n",
    "def update_plot(cat1, cat2):\n",
    "    filtered_p1 = p1_data[p1_data[\"Category\"].isin([cat1, cat2])]\n",
    "\n",
    "    fig = px.violin(\n",
    "        filtered_p1,\n",
    "        x= 'Category',\n",
    "        y= 'Rating',\n",
    "        color= 'Category',\n",
    "        title= f\"rating distribution {cat1} vs {cat2}\",\n",
    "        points='all',\n",
    "        hover_data=['App']\n",
    "    )\n",
    "\n",
    "    fig.show()\n",
    "\n",
    "\n",
    "#  Create interactive output:\n",
    "\n",
    "widgets.interactive(update_plot, cat1=category1, cat2=category2)"
   ],
   "id": "a5f5618b5102fbda",
   "outputs": [
    {
     "data": {
      "text/plain": [
       "interactive(children=(Dropdown(description='Category 1', options=('ART_AND_DESIGN', 'AUTO_AND_VEHICLES', 'BEAU…"
      ],
      "application/vnd.jupyter.widget-view+json": {
       "version_major": 2,
       "version_minor": 0,
       "model_id": "a407538d6bf64603a76e1899eaebcdee"
      }
     },
     "execution_count": 7,
     "metadata": {},
     "output_type": "execute_result"
    }
   ],
   "execution_count": 7
  }
 ],
 "metadata": {
  "kernelspec": {
   "display_name": "Python 3",
   "language": "python",
   "name": "python3"
  },
  "language_info": {
   "codemirror_mode": {
    "name": "ipython",
    "version": 2
   },
   "file_extension": ".py",
   "mimetype": "text/x-python",
   "name": "python",
   "nbconvert_exporter": "python",
   "pygments_lexer": "ipython2",
   "version": "2.7.6"
  }
 },
 "nbformat": 4,
 "nbformat_minor": 5
}
